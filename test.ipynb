{
  "cells": [
    {
      "cell_type": "markdown",
      "metadata": {
        "id": "view-in-github",
        "colab_type": "text"
      },
      "source": [
        "<a href=\"https://colab.research.google.com/github/azravaroll/github-slideshow/blob/dependabot%2Fbundler%2Faddressable-2.8.1/test.ipynb\" target=\"_parent\"><img src=\"https://colab.research.google.com/assets/colab-badge.svg\" alt=\"Open In Colab\"/></a>"
      ]
    },
    {
      "cell_type": "code",
      "execution_count": null,
      "id": "d7dc37fe-8f25-4d98-8b7d-c7e422c527b0",
      "metadata": {
        "id": "d7dc37fe-8f25-4d98-8b7d-c7e422c527b0"
      },
      "outputs": [],
      "source": [
        "import pandas as pd\n",
        "import numpy as np\n",
        "import seaborn as sns"
      ]
    },
    {
      "cell_type": "code",
      "execution_count": null,
      "metadata": {
        "id": "k259sHiZahum"
      },
      "outputs": [],
      "source": [
        "df = sns.load_dataset('planets')"
      ],
      "id": "k259sHiZahum"
    },
    {
      "cell_type": "markdown",
      "metadata": {
        "id": "ZzElTsvbahuo"
      },
      "source": [
        "### Print/ Display the first 5 rows of dataframe"
      ],
      "id": "ZzElTsvbahuo"
    },
    {
      "cell_type": "code",
      "execution_count": null,
      "id": "f57c2abf-fa5a-4b72-953f-3e63422dcdde",
      "metadata": {
        "colab": {
          "base_uri": "https://localhost:8080/",
          "height": 313
        },
        "id": "f57c2abf-fa5a-4b72-953f-3e63422dcdde",
        "outputId": "af1ebc1d-7dfd-4bf7-b2e0-51fad7b9de06"
      },
      "outputs": [
        {
          "output_type": "execute_result",
          "data": {
            "text/plain": [
              "            method  number  orbital_period   mass  distance  year\n",
              "0  Radial Velocity       1         269.300   7.10     77.40  2006\n",
              "1  Radial Velocity       1         874.774   2.21     56.95  2008\n",
              "2  Radial Velocity       1         763.000   2.60     19.84  2011\n",
              "3  Radial Velocity       1         326.030  19.40    110.62  2007\n",
              "4  Radial Velocity       1         516.220  10.50    119.47  2009"
            ],
            "text/html": [
              "\n",
              "  <div id=\"df-0678425c-6147-4d54-8c8f-f922c6ad9bc6\" class=\"colab-df-container\">\n",
              "    <div>\n",
              "<style scoped>\n",
              "    .dataframe tbody tr th:only-of-type {\n",
              "        vertical-align: middle;\n",
              "    }\n",
              "\n",
              "    .dataframe tbody tr th {\n",
              "        vertical-align: top;\n",
              "    }\n",
              "\n",
              "    .dataframe thead th {\n",
              "        text-align: right;\n",
              "    }\n",
              "</style>\n",
              "<table border=\"1\" class=\"dataframe\">\n",
              "  <thead>\n",
              "    <tr style=\"text-align: right;\">\n",
              "      <th></th>\n",
              "      <th>method</th>\n",
              "      <th>number</th>\n",
              "      <th>orbital_period</th>\n",
              "      <th>mass</th>\n",
              "      <th>distance</th>\n",
              "      <th>year</th>\n",
              "    </tr>\n",
              "  </thead>\n",
              "  <tbody>\n",
              "    <tr>\n",
              "      <th>0</th>\n",
              "      <td>Radial Velocity</td>\n",
              "      <td>1</td>\n",
              "      <td>269.300</td>\n",
              "      <td>7.10</td>\n",
              "      <td>77.40</td>\n",
              "      <td>2006</td>\n",
              "    </tr>\n",
              "    <tr>\n",
              "      <th>1</th>\n",
              "      <td>Radial Velocity</td>\n",
              "      <td>1</td>\n",
              "      <td>874.774</td>\n",
              "      <td>2.21</td>\n",
              "      <td>56.95</td>\n",
              "      <td>2008</td>\n",
              "    </tr>\n",
              "    <tr>\n",
              "      <th>2</th>\n",
              "      <td>Radial Velocity</td>\n",
              "      <td>1</td>\n",
              "      <td>763.000</td>\n",
              "      <td>2.60</td>\n",
              "      <td>19.84</td>\n",
              "      <td>2011</td>\n",
              "    </tr>\n",
              "    <tr>\n",
              "      <th>3</th>\n",
              "      <td>Radial Velocity</td>\n",
              "      <td>1</td>\n",
              "      <td>326.030</td>\n",
              "      <td>19.40</td>\n",
              "      <td>110.62</td>\n",
              "      <td>2007</td>\n",
              "    </tr>\n",
              "    <tr>\n",
              "      <th>4</th>\n",
              "      <td>Radial Velocity</td>\n",
              "      <td>1</td>\n",
              "      <td>516.220</td>\n",
              "      <td>10.50</td>\n",
              "      <td>119.47</td>\n",
              "      <td>2009</td>\n",
              "    </tr>\n",
              "  </tbody>\n",
              "</table>\n",
              "</div>\n",
              "    <div class=\"colab-df-buttons\">\n",
              "\n",
              "  <div class=\"colab-df-container\">\n",
              "    <button class=\"colab-df-convert\" onclick=\"convertToInteractive('df-0678425c-6147-4d54-8c8f-f922c6ad9bc6')\"\n",
              "            title=\"Convert this dataframe to an interactive table.\"\n",
              "            style=\"display:none;\">\n",
              "\n",
              "  <svg xmlns=\"http://www.w3.org/2000/svg\" height=\"24px\" viewBox=\"0 -960 960 960\">\n",
              "    <path d=\"M120-120v-720h720v720H120Zm60-500h600v-160H180v160Zm220 220h160v-160H400v160Zm0 220h160v-160H400v160ZM180-400h160v-160H180v160Zm440 0h160v-160H620v160ZM180-180h160v-160H180v160Zm440 0h160v-160H620v160Z\"/>\n",
              "  </svg>\n",
              "    </button>\n",
              "\n",
              "  <style>\n",
              "    .colab-df-container {\n",
              "      display:flex;\n",
              "      gap: 12px;\n",
              "    }\n",
              "\n",
              "    .colab-df-convert {\n",
              "      background-color: #E8F0FE;\n",
              "      border: none;\n",
              "      border-radius: 50%;\n",
              "      cursor: pointer;\n",
              "      display: none;\n",
              "      fill: #1967D2;\n",
              "      height: 32px;\n",
              "      padding: 0 0 0 0;\n",
              "      width: 32px;\n",
              "    }\n",
              "\n",
              "    .colab-df-convert:hover {\n",
              "      background-color: #E2EBFA;\n",
              "      box-shadow: 0px 1px 2px rgba(60, 64, 67, 0.3), 0px 1px 3px 1px rgba(60, 64, 67, 0.15);\n",
              "      fill: #174EA6;\n",
              "    }\n",
              "\n",
              "    .colab-df-buttons div {\n",
              "      margin-bottom: 4px;\n",
              "    }\n",
              "\n",
              "    [theme=dark] .colab-df-convert {\n",
              "      background-color: #3B4455;\n",
              "      fill: #D2E3FC;\n",
              "    }\n",
              "\n",
              "    [theme=dark] .colab-df-convert:hover {\n",
              "      background-color: #434B5C;\n",
              "      box-shadow: 0px 1px 3px 1px rgba(0, 0, 0, 0.15);\n",
              "      filter: drop-shadow(0px 1px 2px rgba(0, 0, 0, 0.3));\n",
              "      fill: #FFFFFF;\n",
              "    }\n",
              "  </style>\n",
              "\n",
              "    <script>\n",
              "      const buttonEl =\n",
              "        document.querySelector('#df-0678425c-6147-4d54-8c8f-f922c6ad9bc6 button.colab-df-convert');\n",
              "      buttonEl.style.display =\n",
              "        google.colab.kernel.accessAllowed ? 'block' : 'none';\n",
              "\n",
              "      async function convertToInteractive(key) {\n",
              "        const element = document.querySelector('#df-0678425c-6147-4d54-8c8f-f922c6ad9bc6');\n",
              "        const dataTable =\n",
              "          await google.colab.kernel.invokeFunction('convertToInteractive',\n",
              "                                                    [key], {});\n",
              "        if (!dataTable) return;\n",
              "\n",
              "        const docLinkHtml = 'Like what you see? Visit the ' +\n",
              "          '<a target=\"_blank\" href=https://colab.research.google.com/notebooks/data_table.ipynb>data table notebook</a>'\n",
              "          + ' to learn more about interactive tables.';\n",
              "        element.innerHTML = '';\n",
              "        dataTable['output_type'] = 'display_data';\n",
              "        await google.colab.output.renderOutput(dataTable, element);\n",
              "        const docLink = document.createElement('div');\n",
              "        docLink.innerHTML = docLinkHtml;\n",
              "        element.appendChild(docLink);\n",
              "      }\n",
              "    </script>\n",
              "  </div>\n",
              "\n",
              "\n",
              "<div id=\"df-5ebe077f-d9aa-4f05-88ad-31fd6c02654a\">\n",
              "  <button class=\"colab-df-quickchart\" onclick=\"quickchart('df-5ebe077f-d9aa-4f05-88ad-31fd6c02654a')\"\n",
              "            title=\"Suggest charts\"\n",
              "            style=\"display:none;\">\n",
              "\n",
              "<svg xmlns=\"http://www.w3.org/2000/svg\" height=\"24px\"viewBox=\"0 0 24 24\"\n",
              "     width=\"24px\">\n",
              "    <g>\n",
              "        <path d=\"M19 3H5c-1.1 0-2 .9-2 2v14c0 1.1.9 2 2 2h14c1.1 0 2-.9 2-2V5c0-1.1-.9-2-2-2zM9 17H7v-7h2v7zm4 0h-2V7h2v10zm4 0h-2v-4h2v4z\"/>\n",
              "    </g>\n",
              "</svg>\n",
              "  </button>\n",
              "\n",
              "<style>\n",
              "  .colab-df-quickchart {\n",
              "      --bg-color: #E8F0FE;\n",
              "      --fill-color: #1967D2;\n",
              "      --hover-bg-color: #E2EBFA;\n",
              "      --hover-fill-color: #174EA6;\n",
              "      --disabled-fill-color: #AAA;\n",
              "      --disabled-bg-color: #DDD;\n",
              "  }\n",
              "\n",
              "  [theme=dark] .colab-df-quickchart {\n",
              "      --bg-color: #3B4455;\n",
              "      --fill-color: #D2E3FC;\n",
              "      --hover-bg-color: #434B5C;\n",
              "      --hover-fill-color: #FFFFFF;\n",
              "      --disabled-bg-color: #3B4455;\n",
              "      --disabled-fill-color: #666;\n",
              "  }\n",
              "\n",
              "  .colab-df-quickchart {\n",
              "    background-color: var(--bg-color);\n",
              "    border: none;\n",
              "    border-radius: 50%;\n",
              "    cursor: pointer;\n",
              "    display: none;\n",
              "    fill: var(--fill-color);\n",
              "    height: 32px;\n",
              "    padding: 0;\n",
              "    width: 32px;\n",
              "  }\n",
              "\n",
              "  .colab-df-quickchart:hover {\n",
              "    background-color: var(--hover-bg-color);\n",
              "    box-shadow: 0 1px 2px rgba(60, 64, 67, 0.3), 0 1px 3px 1px rgba(60, 64, 67, 0.15);\n",
              "    fill: var(--button-hover-fill-color);\n",
              "  }\n",
              "\n",
              "  .colab-df-quickchart-complete:disabled,\n",
              "  .colab-df-quickchart-complete:disabled:hover {\n",
              "    background-color: var(--disabled-bg-color);\n",
              "    fill: var(--disabled-fill-color);\n",
              "    box-shadow: none;\n",
              "  }\n",
              "\n",
              "  .colab-df-spinner {\n",
              "    border: 2px solid var(--fill-color);\n",
              "    border-color: transparent;\n",
              "    border-bottom-color: var(--fill-color);\n",
              "    animation:\n",
              "      spin 1s steps(1) infinite;\n",
              "  }\n",
              "\n",
              "  @keyframes spin {\n",
              "    0% {\n",
              "      border-color: transparent;\n",
              "      border-bottom-color: var(--fill-color);\n",
              "      border-left-color: var(--fill-color);\n",
              "    }\n",
              "    20% {\n",
              "      border-color: transparent;\n",
              "      border-left-color: var(--fill-color);\n",
              "      border-top-color: var(--fill-color);\n",
              "    }\n",
              "    30% {\n",
              "      border-color: transparent;\n",
              "      border-left-color: var(--fill-color);\n",
              "      border-top-color: var(--fill-color);\n",
              "      border-right-color: var(--fill-color);\n",
              "    }\n",
              "    40% {\n",
              "      border-color: transparent;\n",
              "      border-right-color: var(--fill-color);\n",
              "      border-top-color: var(--fill-color);\n",
              "    }\n",
              "    60% {\n",
              "      border-color: transparent;\n",
              "      border-right-color: var(--fill-color);\n",
              "    }\n",
              "    80% {\n",
              "      border-color: transparent;\n",
              "      border-right-color: var(--fill-color);\n",
              "      border-bottom-color: var(--fill-color);\n",
              "    }\n",
              "    90% {\n",
              "      border-color: transparent;\n",
              "      border-bottom-color: var(--fill-color);\n",
              "    }\n",
              "  }\n",
              "</style>\n",
              "\n",
              "  <script>\n",
              "    async function quickchart(key) {\n",
              "      const quickchartButtonEl =\n",
              "        document.querySelector('#' + key + ' button');\n",
              "      quickchartButtonEl.disabled = true;  // To prevent multiple clicks.\n",
              "      quickchartButtonEl.classList.add('colab-df-spinner');\n",
              "      try {\n",
              "        const charts = await google.colab.kernel.invokeFunction(\n",
              "            'suggestCharts', [key], {});\n",
              "      } catch (error) {\n",
              "        console.error('Error during call to suggestCharts:', error);\n",
              "      }\n",
              "      quickchartButtonEl.classList.remove('colab-df-spinner');\n",
              "      quickchartButtonEl.classList.add('colab-df-quickchart-complete');\n",
              "    }\n",
              "    (() => {\n",
              "      let quickchartButtonEl =\n",
              "        document.querySelector('#df-5ebe077f-d9aa-4f05-88ad-31fd6c02654a button');\n",
              "      quickchartButtonEl.style.display =\n",
              "        google.colab.kernel.accessAllowed ? 'block' : 'none';\n",
              "    })();\n",
              "  </script>\n",
              "</div>\n",
              "    </div>\n",
              "  </div>\n"
            ]
          },
          "metadata": {},
          "execution_count": 27
        }
      ],
      "source": [
        "# your code here\n",
        "df.head(5)"
      ]
    },
    {
      "cell_type": "markdown",
      "metadata": {
        "id": "5mjzy6G9ahuw"
      },
      "source": [
        "### Print/ Display the last 5 rows of dataframe"
      ],
      "id": "5mjzy6G9ahuw"
    },
    {
      "cell_type": "code",
      "execution_count": null,
      "id": "4c27adad-ccd9-4871-8d81-dcc11c742dae",
      "metadata": {
        "colab": {
          "base_uri": "https://localhost:8080/"
        },
        "id": "4c27adad-ccd9-4871-8d81-dcc11c742dae",
        "outputId": "c022616a-9365-4d88-c849-d50b3784b9da"
      },
      "outputs": [
        {
          "output_type": "stream",
          "name": "stdout",
          "text": [
            "       method  number  orbital_period  mass  distance  year\n",
            "1030  Transit       1        3.941507   NaN     172.0  2006\n",
            "1031  Transit       1        2.615864   NaN     148.0  2007\n",
            "1032  Transit       1        3.191524   NaN     174.0  2007\n",
            "1033  Transit       1        4.125083   NaN     293.0  2008\n",
            "1034  Transit       1        4.187757   NaN     260.0  2008\n"
          ]
        }
      ],
      "source": [
        "# your code here\n",
        "df.tail(5)"
      ]
    },
    {
      "cell_type": "markdown",
      "metadata": {
        "id": "DA7_wag6ahu0"
      },
      "source": [
        "### How many unique methods are there?"
      ],
      "id": "DA7_wag6ahu0"
    },
    {
      "cell_type": "markdown",
      "metadata": {
        "id": "MI92UbIXahu2"
      },
      "source": [
        "# your code here\n"
      ],
      "id": "MI92UbIXahu2"
    },
    {
      "cell_type": "markdown",
      "metadata": {
        "id": "V-gALg16ahu4"
      },
      "source": [
        "### What is the number of data collected in each year?"
      ],
      "id": "V-gALg16ahu4"
    },
    {
      "cell_type": "code",
      "execution_count": null,
      "metadata": {
        "colab": {
          "base_uri": "https://localhost:8080/"
        },
        "id": "aKq4RaiEahu6",
        "outputId": "b74816c1-d185-4281-ea5a-dde53bbbb951"
      },
      "outputs": [
        {
          "output_type": "execute_result",
          "data": {
            "text/plain": [
              "6210"
            ]
          },
          "metadata": {},
          "execution_count": 6
        }
      ],
      "source": [
        "# your code here\n",
        "df.shape[0]*df.shape[1]"
      ],
      "id": "aKq4RaiEahu6"
    },
    {
      "cell_type": "markdown",
      "metadata": {
        "id": "qJbsr8D9ahu8"
      },
      "source": [
        "### Which columns have missing values and how many?"
      ],
      "id": "qJbsr8D9ahu8"
    },
    {
      "cell_type": "code",
      "execution_count": null,
      "metadata": {
        "colab": {
          "base_uri": "https://localhost:8080/",
          "height": 263
        },
        "id": "dxIXB-Stahu9",
        "outputId": "5139fb0b-5b4f-4176-b60d-fa603b8d50a4"
      },
      "outputs": [
        {
          "output_type": "error",
          "ename": "NameError",
          "evalue": "ignored",
          "traceback": [
            "\u001b[0;31m---------------------------------------------------------------------------\u001b[0m",
            "\u001b[0;31mNameError\u001b[0m                                 Traceback (most recent call last)",
            "\u001b[0;32m<ipython-input-1-2aa45ec308c5>\u001b[0m in \u001b[0;36m<cell line: 2>\u001b[0;34m()\u001b[0m\n\u001b[1;32m      1\u001b[0m \u001b[0;31m# your code here\u001b[0m\u001b[0;34m\u001b[0m\u001b[0;34m\u001b[0m\u001b[0m\n\u001b[0;32m----> 2\u001b[0;31m \u001b[0mdf\u001b[0m\u001b[0;34m.\u001b[0m\u001b[0misnull\u001b[0m\u001b[0;34m(\u001b[0m\u001b[0;34m)\u001b[0m\u001b[0;34m.\u001b[0m\u001b[0msum\u001b[0m\u001b[0;34m(\u001b[0m\u001b[0;34m)\u001b[0m\u001b[0;34m\u001b[0m\u001b[0;34m\u001b[0m\u001b[0m\n\u001b[0m",
            "\u001b[0;31mNameError\u001b[0m: name 'df' is not defined"
          ]
        }
      ],
      "source": [
        "# your code here\n",
        "df.isnull().sum()"
      ],
      "id": "dxIXB-Stahu9"
    },
    {
      "cell_type": "markdown",
      "metadata": {
        "id": "UhgHvau4ahu_"
      },
      "source": [
        "### Write docstring for the function below."
      ],
      "id": "UhgHvau4ahu_"
    },
    {
      "cell_type": "code",
      "execution_count": null,
      "metadata": {
        "id": "SO655MzpahvA"
      },
      "outputs": [],
      "source": [
        "def do_something(x, y, z):\n",
        "    \"\"\" Reciprocal of given parameters' reciprocals' sum.\n",
        "    \"\"\"\n",
        "\n",
        "    result = 1 / x + 1 / y + 1 / z\n",
        "\n",
        "    return 1 / result"
      ],
      "id": "SO655MzpahvA"
    },
    {
      "cell_type": "markdown",
      "metadata": {
        "id": "wn13KOozahvC"
      },
      "source": [
        "### Get (print) the docstring of the function defined above."
      ],
      "id": "wn13KOozahvC"
    },
    {
      "cell_type": "code",
      "execution_count": null,
      "metadata": {
        "id": "sEpiW3AhahvD",
        "colab": {
          "base_uri": "https://localhost:8080/",
          "height": 53
        },
        "outputId": "5c4ca3ec-6110-47b2-dea7-095599b24c32"
      },
      "outputs": [
        {
          "output_type": "execute_result",
          "data": {
            "text/plain": [
              "\" Reciprocal of given parameters' reciprocals' sum.\\n\\n\\n    \""
            ],
            "application/vnd.google.colaboratory.intrinsic+json": {
              "type": "string"
            }
          },
          "metadata": {},
          "execution_count": 13
        }
      ],
      "source": [
        "# your code here\n",
        "do_something.__doc__"
      ],
      "id": "sEpiW3AhahvD"
    },
    {
      "cell_type": "markdown",
      "metadata": {
        "id": "zUupFApIahvF"
      },
      "source": [
        "### Call do_something function for the (11,13,15) values and save it as result"
      ],
      "id": "zUupFApIahvF"
    },
    {
      "cell_type": "code",
      "execution_count": null,
      "metadata": {
        "colab": {
          "base_uri": "https://localhost:8080/"
        },
        "id": "incP4tp_ahvG",
        "outputId": "6d886063-65b5-44a5-d01c-38f1c855ade9"
      },
      "outputs": [
        {
          "output_type": "execute_result",
          "data": {
            "text/plain": [
              "4.26441351888668"
            ]
          },
          "metadata": {},
          "execution_count": 11
        }
      ],
      "source": [
        "# your code here\n",
        "do_something(11,13,15)"
      ],
      "id": "incP4tp_ahvG"
    },
    {
      "cell_type": "markdown",
      "metadata": {
        "id": "k81QYbGPahvH"
      },
      "source": [
        "### In the variable 's' containing a sentence, extract the word using result defined above as index"
      ],
      "id": "k81QYbGPahvH"
    },
    {
      "cell_type": "code",
      "execution_count": null,
      "metadata": {
        "id": "TptkQF5QahvI"
      },
      "outputs": [],
      "source": [
        "s = \"I love Machine Learning and Deep Learning\"\n",
        "\n",
        "# use int() to convert the result to integer\n",
        "# your code here"
      ],
      "id": "TptkQF5QahvI"
    },
    {
      "cell_type": "markdown",
      "metadata": {
        "id": "Z-G5aJ8eahvJ"
      },
      "source": [
        "### Sort the given array below, do not use built in functions. All sorting methods are allowed."
      ],
      "id": "Z-G5aJ8eahvJ"
    },
    {
      "cell_type": "code",
      "execution_count": null,
      "metadata": {
        "id": "qAqctszFahvK",
        "colab": {
          "base_uri": "https://localhost:8080/"
        },
        "outputId": "5c5cb352-6bd8-489c-8127-494b1167a795"
      },
      "outputs": [
        {
          "output_type": "execute_result",
          "data": {
            "text/plain": [
              "[31, 42, 41, 61, 93, 56, 40, 73, 45, 50]"
            ]
          },
          "metadata": {},
          "execution_count": 38
        }
      ],
      "source": [
        "import random\n",
        "arr = [random.randint(1, 100) for i in range(10)]\n",
        "def bogosort(x):\n",
        "   while np.any(x[:-1]>x[1:]):\n",
        "     np.random.shuffle(x)\n",
        "   return x\n",
        "bogosort(arr)"
      ],
      "id": "qAqctszFahvK"
    },
    {
      "cell_type": "markdown",
      "metadata": {
        "id": "E9hEWvusahvL"
      },
      "source": [
        "### define a recursive function to calculate input numbers factorial named factorial"
      ],
      "id": "E9hEWvusahvL"
    },
    {
      "cell_type": "code",
      "execution_count": null,
      "metadata": {
        "id": "D89hRh1OahvM",
        "colab": {
          "base_uri": "https://localhost:8080/"
        },
        "outputId": "07505f03-1b9a-4dbc-f192-7aa9d1079c59"
      },
      "outputs": [
        {
          "output_type": "execute_result",
          "data": {
            "text/plain": [
              "120"
            ]
          },
          "metadata": {},
          "execution_count": 45
        }
      ],
      "source": [
        "# your code here\n",
        "def factorial(n):\n",
        "    if (n==1 or n==0):\n",
        "\n",
        "        return 1\n",
        "\n",
        "    else:\n",
        "\n",
        "        return (n * factorial(n - 1))"
      ],
      "id": "D89hRh1OahvM"
    },
    {
      "cell_type": "markdown",
      "metadata": {
        "id": "6-U2ltagahvN"
      },
      "source": [
        "### define a function to merge the given arrays and calculate the median named twoMedian"
      ],
      "id": "6-U2ltagahvN"
    },
    {
      "cell_type": "code",
      "execution_count": null,
      "metadata": {
        "id": "CrYa9j2UahvO",
        "colab": {
          "base_uri": "https://localhost:8080/",
          "height": 211
        },
        "outputId": "c2b23fca-d51e-4be6-f2e1-444297acdf36"
      },
      "outputs": [
        {
          "output_type": "error",
          "ename": "SyntaxError",
          "evalue": "ignored",
          "traceback": [
            "\u001b[0;36m  File \u001b[0;32m\"<ipython-input-8-65e4bc0fbe16>\"\u001b[0;36m, line \u001b[0;32m18\u001b[0m\n\u001b[0;31m    return (s[n//2-1]/2.0+s[n//2]/2.0, s[n//2])[n % 2] f n else None\u001b[0m\n\u001b[0m                                                       ^\u001b[0m\n\u001b[0;31mSyntaxError\u001b[0m\u001b[0;31m:\u001b[0m invalid syntax\n"
          ]
        }
      ],
      "source": [
        "# your code here\n",
        "def merge_arrays(arr1, arr2, size1, size2, arr3):\n",
        "   i = 0\n",
        "   j = 0\n",
        "   k = 0\n",
        "   while(i < size1):\n",
        "      arr3[k] = arr1[i]\n",
        "      k = k + 1\n",
        "      i = i + 1\n",
        "   while(j < size2):\n",
        "      arr3[k] = arr2[j]\n",
        "      k = k + 1\n",
        "      j = j + 1\n",
        "   arr3.sort()\n",
        "   print(arr3)\n",
        "s= arr3\n",
        "n=len(arr3)\n",
        "return (s[n//2-1]/2.0+s[n//2]/2.0, s[n//2])[n % 2] if n else None"
      ],
      "id": "CrYa9j2UahvO"
    }
  ],
  "metadata": {
    "kernelspec": {
      "display_name": "Python 3 (ipykernel)",
      "language": "python",
      "name": "python3"
    },
    "language_info": {
      "codemirror_mode": {
        "name": "ipython",
        "version": 3
      },
      "file_extension": ".py",
      "mimetype": "text/x-python",
      "name": "python",
      "nbconvert_exporter": "python",
      "pygments_lexer": "ipython3",
      "version": "3.11.4"
    },
    "colab": {
      "provenance": [],
      "include_colab_link": true
    }
  },
  "nbformat": 4,
  "nbformat_minor": 5
}